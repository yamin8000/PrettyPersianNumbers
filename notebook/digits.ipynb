{
 "cells": [
  {
   "cell_type": "code",
   "execution_count": 74,
   "outputs": [],
   "source": [
    "fun Number.printAndSpell(type: String) = println(\"${\"%,${type}\".format(this)} <==> ${this.spellToPersian()}\")"
   ],
   "metadata": {
    "collapsed": false,
    "ExecuteTime": {
     "end_time": "2023-11-07T23:10:24.522998700Z",
     "start_time": "2023-11-07T23:10:24.401996600Z"
    }
   }
  },
  {
   "cell_type": "code",
   "execution_count": 75,
   "outputs": [
    {
     "name": "stdout",
     "output_type": "stream",
     "text": [
      "84 <==> هشتاد و چهار\r\n",
      "40 <==> چهل\r\n",
      "88 <==> هشتاد و هشت\r\n",
      "26 <==> بیست و شش\r\n",
      "7 <==> هفت\r\n",
      "56 <==> پنجاه و شش\r\n",
      "69 <==> شصت و نه\r\n",
      "41 <==> چهل و یک\r\n",
      "23 <==> بیست و سه\r\n",
      "39 <==> سی و نه\r\n"
     ]
    }
   ],
   "source": [
    "repeat(10) {\n",
    "    Random.nextInt(0..100).printAndSpell(\"d\")\n",
    "}"
   ],
   "metadata": {
    "collapsed": false,
    "ExecuteTime": {
     "end_time": "2023-11-07T23:10:24.642996700Z",
     "start_time": "2023-11-07T23:10:24.515997600Z"
    }
   }
  },
  {
   "cell_type": "code",
   "execution_count": 76,
   "outputs": [
    {
     "name": "stdout",
     "output_type": "stream",
     "text": [
      "668,030,743 <==> ششصد و شصت و هشت میلیون و سی هزار و هفتصد و چهل و سه\r\n",
      "376,453,200 <==> سیصد و هفتاد و شش میلیون و چهارصد و پنجاه و سه هزار و دویست\r\n",
      "697,985,807 <==> ششصد و نود و هفت میلیون و نهصد و هشتاد و پنج هزار و هشتصد و هفت\r\n",
      "852,897,682 <==> هشتصد و پنجاه و دو میلیون و هشتصد و نود و هفت هزار و ششصد و هشتاد و دو\r\n",
      "899,018,781 <==> هشتصد و نود و نه میلیون و هجده هزار و هفتصد و هشتاد و یک\r\n",
      "598,021,279 <==> پانصد و نود و هشت میلیون و بیست و یک هزار و دویست و هفتاد و نه\r\n",
      "-236,782,595 <==> منفی دویست و سی و شش میلیون و هفتصد و هشتاد و دو هزار و پانصد و نود و پنج\r\n",
      "809,422,992 <==> هشتصد و نه میلیون و چهارصد و بیست و دو هزار و نهصد و نود و دو\r\n",
      "343,561,740 <==> سیصد و چهل و سه میلیون و پانصد و شصت و یک هزار و هفتصد و چهل\r\n",
      "283,299,284 <==> دویست و هشتاد و سه میلیون و دویست و نود و نه هزار و دویست و هشتاد و چهار\r\n"
     ]
    }
   ],
   "source": [
    "import com.github.yamin8000.ppn.PersianHelpers.spellToPersian\n",
    "\n",
    "repeat(10) {\n",
    "    Random.nextInt(-1_000_000_000..1_000_000_000).printAndSpell(\"d\")\n",
    "}"
   ],
   "metadata": {
    "collapsed": false,
    "ExecuteTime": {
     "end_time": "2023-11-07T23:10:24.791996400Z",
     "start_time": "2023-11-07T23:10:24.637992400Z"
    }
   }
  },
  {
   "cell_type": "code",
   "execution_count": 77,
   "outputs": [
    {
     "name": "stdout",
     "output_type": "stream",
     "text": [
      "-3.644219 <==> منفی سه ممیز شش میلیون و چهارصد و چهل و دو هزار و یکصد و نود و چهار، ده میلیونم\r\n",
      "4.514645 <==> چهار ممیز پنج میلیون و یکصد و چهل و شش هزار و چهارصد و چهل و شش، ده میلیونم\r\n",
      "7.976578 <==> هفت ممیز نه میلیون و هفتصد و شصت و پنج هزار و هفتصد و هفتاد و هشت، ده میلیونم\r\n",
      "6.867537 <==> شش ممیز هشت میلیون و ششصد و هفتاد و پنج هزار و سیصد و شصت و پنج، ده میلیونم\r\n",
      "-7.715446 <==> منفی هفت ممیز هفت میلیون و یکصد و پنجاه و چهار هزار و چهارصد و پنجاه و پنج، ده میلیونم\r\n",
      "2.271774 <==> دو ممیز دو میلیون و هفتصد و هفده هزار و هفتصد و چهل و سه، ده میلیونم\r\n",
      "-9.393991 <==> منفی نه ممیز سیصد و نود و سه هزار و نهصد و نود و یک،  میلیونم\r\n",
      "-6.507071 <==> منفی شش ممیز پنج میلیون و هفتاد هزار و هفتصد و پانزده، ده میلیونم\r\n",
      "7.394712 <==> هفت ممیز سه میلیون و نهصد و چهل و هفت هزار و یکصد و بیست و چهار، ده میلیونم\r\n",
      "3.686799 <==> سه ممیز ششصد و هشتاد و شش هزار و هفتصد و نود و نه،  میلیونم\r\n"
     ]
    }
   ],
   "source": [
    "import kotlin.random.Random\n",
    "import kotlin.random.nextInt\n",
    "\n",
    "val random = Random\n",
    "repeat(10) {\n",
    "    val num = -10f + random.nextFloat() * 20f\n",
    "    num.printAndSpell(\"f\")\n",
    "}"
   ],
   "metadata": {
    "collapsed": false,
    "ExecuteTime": {
     "end_time": "2023-11-07T23:10:24.930994100Z",
     "start_time": "2023-11-07T23:10:24.751993800Z"
    }
   }
  }
 ],
 "metadata": {
  "kernelspec": {
   "display_name": "Kotlin",
   "language": "kotlin",
   "name": "kotlin"
  },
  "language_info": {
   "name": "kotlin",
   "version": "1.9.0",
   "mimetype": "text/x-kotlin",
   "file_extension": ".kt",
   "pygments_lexer": "kotlin",
   "codemirror_mode": "text/x-kotlin",
   "nbconvert_exporter": ""
  },
  "ktnbPluginMetadata": {
   "projectDependencies": [
    "digitstest.Persian_Numbers.androidTest",
    "digitstest.Persian_Numbers.main",
    "digitstest.Persian_Numbers.unitTest"
   ]
  }
 },
 "nbformat": 4,
 "nbformat_minor": 0
}
